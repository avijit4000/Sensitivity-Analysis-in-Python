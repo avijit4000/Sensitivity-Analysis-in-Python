{
 "cells": [
  {
   "cell_type": "code",
   "execution_count": 1,
   "metadata": {
    "collapsed": true,
    "pycharm": {
     "name": "#%%\n"
    }
   },
   "outputs": [
    {
     "name": "stdout",
     "output_type": "stream",
     "text": [
      "Model Status:Optimal\n",
      "Objective =  740.0\n",
      "A = 9.0\n",
      "B = 4.0\n"
     ]
    }
   ],
   "source": [
    "from pulp import *\n",
    "\n",
    "# Initialize Class, Define Vars., and Objective\n",
    "model = LpProblem(\"Glass_Manufacturing_Industries_Profits\",LpMaximize)\n",
    "# Define variables\n",
    "A = LpVariable('A', lowBound=0)\n",
    "B = LpVariable('B', lowBound=0)\n",
    "\n",
    "# Define Objetive Function: Profit on Product A and B\n",
    "model += 60 * A + 50 * B\n",
    "\n",
    "# Constraint 1\n",
    "model += 4 * A + 10 * B <= 100\n",
    "\n",
    "# Constraint 2\n",
    "model += 2 * A + 1 * B <= 22\n",
    "\n",
    "# Constraint 3\n",
    "model += 3 * A + 3 * B <= 39\n",
    "\n",
    "# Solve Model\n",
    "model.solve()\n",
    "\n",
    "print(\"Model Status:{}\".format(LpStatus[model.status]))\n",
    "print(\"Objective = \", value(model.objective))\n",
    "\n",
    "for v in model.variables():\n",
    "    print(v.name,\"=\", v.varValue)"
   ]
  },
  {
   "cell_type": "code",
   "execution_count": 2,
   "outputs": [
    {
     "data": {
      "text/plain": "-22.0"
     },
     "execution_count": 2,
     "metadata": {},
     "output_type": "execute_result"
    }
   ],
   "source": [
    "from scipy.optimize import linprog\n",
    "c = [-1, 4]\n",
    "A = [[-3, 1], [1, 2]]\n",
    "b = [6, 4]\n",
    "x0_bounds = (None, None)\n",
    "x1_bounds = (-3, None)\n",
    "res = linprog(c, A_ub=A, b_ub=b, bounds=[x0_bounds, x1_bounds])\n",
    "res.fun\n",
    "# -22.0\n",
    "res.x\n",
    "# array([10., -3.])\n",
    "res.message\n",
    "# 'Optimization terminated successfully. (HiGHS Status 7: Optimal)'\n",
    "res.ineqlin\n",
    "eps = 0.05\n",
    "b[1] += eps\n",
    "linprog(c, A_ub=A, b_ub=b, bounds=[x0_bounds, x1_bounds]).fun\n",
    "b = [6, 4]  # reset to original values\n",
    "b[0] -= 39\n",
    "linprog(c, A_ub=A, b_ub=b, bounds=[x0_bounds, x1_bounds]).fun"
   ],
   "metadata": {
    "collapsed": false,
    "pycharm": {
     "name": "#%%\n"
    }
   }
  },
  {
   "cell_type": "code",
   "execution_count": 3,
   "outputs": [
    {
     "name": "stdout",
     "output_type": "stream",
     "text": [
      "Optimal daily production:\n",
      "Belt A: 2\n",
      "Belt B: 1\n",
      "Belt C: 1\n"
     ]
    }
   ],
   "source": [
    "import pulp\n",
    "\n",
    "# Create a LP problem\n",
    "prob = pulp.LpProblem(\"BeltProduction\", pulp.LpMaximize)\n",
    "\n",
    "# Define decision variables\n",
    "A = pulp.LpVariable('BeltA', lowBound=0, cat='Integer')\n",
    "B = pulp.LpVariable('BeltB', lowBound=0, cat='Integer')\n",
    "C = pulp.LpVariable('BeltC', lowBound=0, cat='Integer')\n",
    "\n",
    "# Define objective function (profit)\n",
    "prob += 3 * A + 5 * B + 4 * C, \"Total Profit\"\n",
    "\n",
    "# Define constraints\n",
    "prob += 2 * A + 3 * B <= 8  # Machine M1 constraint\n",
    "prob += 3 * B + 5 * C <= 10  # Machine M2 constraint\n",
    "prob += 3 * A + 2 * B + 4 * C <= 15  # Machine M3 constraint\n",
    "\n",
    "# Solve the LP problem\n",
    "prob.solve()\n",
    "\n",
    "# Print the results\n",
    "print(\"Optimal daily production:\")\n",
    "print(\"Belt A:\", int(pulp.value(A)))\n",
    "print(\"Belt B:\", int(pulp.value(B)))\n",
    "print(\"Belt C:\", int(pulp.value(C)))\n"
   ],
   "metadata": {
    "collapsed": false,
    "pycharm": {
     "name": "#%%\n"
    }
   }
  },
  {
   "cell_type": "code",
   "execution_count": 4,
   "outputs": [
    {
     "name": "stdout",
     "output_type": "stream",
     "text": [
      "Optimal combination of foods:\n",
      "Units of Food A: 5\n",
      "Units of Food B: 30\n"
     ]
    }
   ],
   "source": [
    "import pulp\n",
    "\n",
    "# Create a LP problem\n",
    "prob = pulp.LpProblem(\"DietProblem\", pulp.LpMinimize)\n",
    "\n",
    "# Define decision variables\n",
    "units_A = pulp.LpVariable('Units_A', lowBound=0, cat='Integer')\n",
    "units_B = pulp.LpVariable('Units_B', lowBound=0, cat='Integer')\n",
    "\n",
    "# Define objective function (cost)\n",
    "prob += 4 * units_A + 3 * units_B, \"Total Cost\"\n",
    "\n",
    "# Define constraints\n",
    "prob += 200 * units_A + 100 * units_B >= 4000  # Vitamins constraint\n",
    "prob += units_A + 2 * units_B >= 50  # Minerals constraint\n",
    "prob += 40 * units_A + 40 * units_B >= 1400  # Calories constraint\n",
    "\n",
    "# Solve the LP problem\n",
    "prob.solve()\n",
    "\n",
    "# Print the results\n",
    "print(\"Optimal combination of foods:\")\n",
    "print(\"Units of Food A:\", int(pulp.value(units_A)))\n",
    "print(\"Units of Food B:\", int(pulp.value(units_B)))\n"
   ],
   "metadata": {
    "collapsed": false,
    "pycharm": {
     "name": "#%%\n"
    }
   }
  },
  {
   "cell_type": "code",
   "execution_count": 5,
   "outputs": [
    {
     "name": "stdout",
     "output_type": "stream",
     "text": [
      "Optimal media mix:\n",
      "TV Programs: 4\n",
      "Radio Programs: 0\n"
     ]
    }
   ],
   "source": [
    "import pulp\n",
    "\n",
    "# Create a LP problem\n",
    "prob = pulp.LpProblem(\"AdvertisingProblem\", pulp.LpMaximize)\n",
    "\n",
    "# Define decision variables\n",
    "tv_programs = pulp.LpVariable('TV_programs', lowBound=3, upBound=None, cat='Integer')\n",
    "radio_programs = pulp.LpVariable('Radio_programs', lowBound=0, upBound=5, cat='Integer')\n",
    "\n",
    "# Define objective function (total reach)\n",
    "prob += 450000 * tv_programs + 20000 * radio_programs, \"Total Reach\"\n",
    "\n",
    "# Define constraints\n",
    "prob += 50000 * tv_programs + 20000 * radio_programs <= 200000  # Budget constraint\n",
    "prob += tv_programs >= 3  # At least 3 TV programs\n",
    "prob += tv_programs + radio_programs <= 5  # Maximum 5 programs total\n",
    "\n",
    "# Solve the LP problem\n",
    "prob.solve()\n",
    "\n",
    "# Print the results\n",
    "print(\"Optimal media mix:\")\n",
    "print(\"TV Programs:\", int(pulp.value(tv_programs)))\n",
    "print(\"Radio Programs:\", int(pulp.value(radio_programs)))\n"
   ],
   "metadata": {
    "collapsed": false,
    "pycharm": {
     "name": "#%%\n"
    }
   }
  },
  {
   "cell_type": "code",
   "execution_count": null,
   "outputs": [],
   "source": [],
   "metadata": {
    "collapsed": false,
    "pycharm": {
     "name": "#%%\n"
    }
   }
  },
  {
   "cell_type": "code",
   "execution_count": 6,
   "outputs": [
    {
     "name": "stdout",
     "output_type": "stream",
     "text": [
      "Optimal daily production:\n",
      "Belt A: 1\n",
      "Belt B: 5\n",
      "Belt C: 0\n"
     ]
    }
   ],
   "source": [
    "import pulp\n",
    "\n",
    "# Create a LP problem\n",
    "prob = pulp.LpProblem(\"BeltProduction\", pulp.LpMaximize)\n",
    "\n",
    "# Define decision variables\n",
    "A = pulp.LpVariable('BeltA', lowBound=0, cat='Integer')\n",
    "B = pulp.LpVariable('BeltB', lowBound=0, cat='Integer')\n",
    "C = pulp.LpVariable('BeltC', lowBound=0, cat='Integer')\n",
    "\n",
    "# Define objective function (profit)\n",
    "prob += 3 * A + 5 * B + 4 * C, \"Total Profit\"\n",
    "\n",
    "# Define constraints\n",
    "prob += 2 * A + 3 * C <= 8  # Machine M1 constraint\n",
    "prob += 2 * B + 5 * C <= 10  # Machine M2 constraint\n",
    "prob += 3 * A + 2 * B + 4 * C <= 15  # Machine M3 constraint\n",
    "\n",
    "# Solve the LP problem\n",
    "prob.solve()\n",
    "\n",
    "# Print the results\n",
    "print(\"Optimal daily production:\")\n",
    "print(\"Belt A:\", int(pulp.value(A)))\n",
    "print(\"Belt B:\", int(pulp.value(B)))\n",
    "print(\"Belt C:\", int(pulp.value(C)))"
   ],
   "metadata": {
    "collapsed": false,
    "pycharm": {
     "name": "#%%\n"
    }
   }
  },
  {
   "cell_type": "code",
   "execution_count": null,
   "outputs": [],
   "source": [],
   "metadata": {
    "collapsed": false,
    "pycharm": {
     "name": "#%%\n"
    }
   }
  }
 ],
 "metadata": {
  "kernelspec": {
   "display_name": "Python 3",
   "language": "python",
   "name": "python3"
  },
  "language_info": {
   "codemirror_mode": {
    "name": "ipython",
    "version": 2
   },
   "file_extension": ".py",
   "mimetype": "text/x-python",
   "name": "python",
   "nbconvert_exporter": "python",
   "pygments_lexer": "ipython2",
   "version": "2.7.6"
  }
 },
 "nbformat": 4,
 "nbformat_minor": 0
}