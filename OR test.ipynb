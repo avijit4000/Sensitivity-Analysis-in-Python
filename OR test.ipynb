{
 "cells": [
  {
   "cell_type": "code",
   "execution_count": 1,
   "metadata": {
    "collapsed": true,
    "pycharm": {
     "name": "#%%\n"
    }
   },
   "outputs": [
    {
     "name": "stdout",
     "output_type": "stream",
     "text": [
      "Model Status:Optimal\n",
      "Objective =  740.0\n",
      "A = 9.0\n",
      "B = 4.0\n"
     ]
    }
   ],
   "source": [
    "from pulp import *\n",
    "\n",
    "# Initialize Class, Define Vars., and Objective\n",
    "model = LpProblem(\"Glass_Manufacturing_Industries_Profits\",LpMaximize)\n",
    "# Define variables\n",
    "A = LpVariable('A', lowBound=0)\n",
    "B = LpVariable('B', lowBound=0)\n",
    "\n",
    "# Define Objetive Function: Profit on Product A and B\n",
    "model += 60 * A + 50 * B\n",
    "\n",
    "# Constraint 1\n",
    "model += 4 * A + 10 * B <= 100\n",
    "\n",
    "# Constraint 2\n",
    "model += 2 * A + 1 * B <= 22\n",
    "\n",
    "# Constraint 3\n",
    "model += 3 * A + 3 * B <= 39\n",
    "\n",
    "# Solve Model\n",
    "model.solve()\n",
    "\n",
    "print(\"Model Status:{}\".format(LpStatus[model.status]))\n",
    "print(\"Objective = \", value(model.objective))\n",
    "\n",
    "for v in model.variables():\n",
    "    print(v.name,\"=\", v.varValue)"
   ]
  },
  {
   "cell_type": "code",
   "execution_count": null,
   "outputs": [],
   "source": [],
   "metadata": {
    "collapsed": false,
    "pycharm": {
     "name": "#%%\n"
    }
   }
  }
 ],
 "metadata": {
  "kernelspec": {
   "display_name": "Python 3",
   "language": "python",
   "name": "python3"
  },
  "language_info": {
   "codemirror_mode": {
    "name": "ipython",
    "version": 2
   },
   "file_extension": ".py",
   "mimetype": "text/x-python",
   "name": "python",
   "nbconvert_exporter": "python",
   "pygments_lexer": "ipython2",
   "version": "2.7.6"
  }
 },
 "nbformat": 4,
 "nbformat_minor": 0
}