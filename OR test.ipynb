{
 "cells": [
  {
   "cell_type": "code",
   "execution_count": 1,
   "metadata": {
    "collapsed": true,
    "pycharm": {
     "name": "#%%\n"
    }
   },
   "outputs": [
    {
     "name": "stdout",
     "output_type": "stream",
     "text": [
      "Model Status:Optimal\n",
      "Objective =  740.0\n",
      "A = 9.0\n",
      "B = 4.0\n"
     ]
    }
   ],
   "source": [
    "from pulp import *\n",
    "\n",
    "# Initialize Class, Define Vars., and Objective\n",
    "model = LpProblem(\"Glass_Manufacturing_Industries_Profits\",LpMaximize)\n",
    "# Define variables\n",
    "A = LpVariable('A', lowBound=0)\n",
    "B = LpVariable('B', lowBound=0)\n",
    "\n",
    "# Define Objetive Function: Profit on Product A and B\n",
    "model += 60 * A + 50 * B\n",
    "\n",
    "# Constraint 1\n",
    "model += 4 * A + 10 * B <= 100\n",
    "\n",
    "# Constraint 2\n",
    "model += 2 * A + 1 * B <= 22\n",
    "\n",
    "# Constraint 3\n",
    "model += 3 * A + 3 * B <= 39\n",
    "\n",
    "# Solve Model\n",
    "model.solve()\n",
    "\n",
    "print(\"Model Status:{}\".format(LpStatus[model.status]))\n",
    "print(\"Objective = \", value(model.objective))\n",
    "\n",
    "for v in model.variables():\n",
    "    print(v.name,\"=\", v.varValue)"
   ]
  },
  {
   "cell_type": "code",
   "execution_count": 2,
   "outputs": [
    {
     "data": {
      "text/plain": "-22.0"
     },
     "execution_count": 2,
     "metadata": {},
     "output_type": "execute_result"
    }
   ],
   "source": [
    "from scipy.optimize import linprog\n",
    "c = [-1, 4]\n",
    "A = [[-3, 1], [1, 2]]\n",
    "b = [6, 4]\n",
    "x0_bounds = (None, None)\n",
    "x1_bounds = (-3, None)\n",
    "res = linprog(c, A_ub=A, b_ub=b, bounds=[x0_bounds, x1_bounds])\n",
    "res.fun\n",
    "# -22.0\n",
    "res.x\n",
    "# array([10., -3.])\n",
    "res.message\n",
    "# 'Optimization terminated successfully. (HiGHS Status 7: Optimal)'\n",
    "res.ineqlin\n",
    "eps = 0.05\n",
    "b[1] += eps\n",
    "linprog(c, A_ub=A, b_ub=b, bounds=[x0_bounds, x1_bounds]).fun\n",
    "b = [6, 4]  # reset to original values\n",
    "b[0] -= 39\n",
    "linprog(c, A_ub=A, b_ub=b, bounds=[x0_bounds, x1_bounds]).fun"
   ],
   "metadata": {
    "collapsed": false,
    "pycharm": {
     "name": "#%%\n"
    }
   }
  },
  {
   "cell_type": "code",
   "execution_count": 3,
   "outputs": [
    {
     "name": "stdout",
     "output_type": "stream",
     "text": [
      "Optimal daily production:\n",
      "Belt A: 2\n",
      "Belt B: 1\n",
      "Belt C: 1\n"
     ]
    }
   ],
   "source": [
    "import pulp\n",
    "\n",
    "# Create a LP problem\n",
    "prob = pulp.LpProblem(\"BeltProduction\", pulp.LpMaximize)\n",
    "\n",
    "# Define decision variables\n",
    "A = pulp.LpVariable('BeltA', lowBound=0, cat='Integer')\n",
    "B = pulp.LpVariable('BeltB', lowBound=0, cat='Integer')\n",
    "C = pulp.LpVariable('BeltC', lowBound=0, cat='Integer')\n",
    "\n",
    "# Define objective function (profit)\n",
    "prob += 3 * A + 5 * B + 4 * C, \"Total Profit\"\n",
    "\n",
    "# Define constraints\n",
    "prob += 2 * A + 3 * B <= 8  # Machine M1 constraint\n",
    "prob += 3 * B + 5 * C <= 10  # Machine M2 constraint\n",
    "prob += 3 * A + 2 * B + 4 * C <= 15  # Machine M3 constraint\n",
    "\n",
    "# Solve the LP problem\n",
    "prob.solve()\n",
    "\n",
    "# Print the results\n",
    "print(\"Optimal daily production:\")\n",
    "print(\"Belt A:\", int(pulp.value(A)))\n",
    "print(\"Belt B:\", int(pulp.value(B)))\n",
    "print(\"Belt C:\", int(pulp.value(C)))\n"
   ],
   "metadata": {
    "collapsed": false,
    "pycharm": {
     "name": "#%%\n"
    }
   }
  },
  {
   "cell_type": "code",
   "execution_count": 4,
   "outputs": [
    {
     "name": "stdout",
     "output_type": "stream",
     "text": [
      "Optimal combination of foods:\n",
      "Units of Food A: 5\n",
      "Units of Food B: 30\n"
     ]
    }
   ],
   "source": [
    "import pulp\n",
    "\n",
    "# Create a LP problem\n",
    "prob = pulp.LpProblem(\"DietProblem\", pulp.LpMinimize)\n",
    "\n",
    "# Define decision variables\n",
    "units_A = pulp.LpVariable('Units_A', lowBound=0, cat='Integer')\n",
    "units_B = pulp.LpVariable('Units_B', lowBound=0, cat='Integer')\n",
    "\n",
    "# Define objective function (cost)\n",
    "prob += 4 * units_A + 3 * units_B, \"Total Cost\"\n",
    "\n",
    "# Define constraints\n",
    "prob += 200 * units_A + 100 * units_B >= 4000  # Vitamins constraint\n",
    "prob += units_A + 2 * units_B >= 50  # Minerals constraint\n",
    "prob += 40 * units_A + 40 * units_B >= 1400  # Calories constraint\n",
    "\n",
    "# Solve the LP problem\n",
    "prob.solve()\n",
    "\n",
    "# Print the results\n",
    "print(\"Optimal combination of foods:\")\n",
    "print(\"Units of Food A:\", int(pulp.value(units_A)))\n",
    "print(\"Units of Food B:\", int(pulp.value(units_B)))\n"
   ],
   "metadata": {
    "collapsed": false,
    "pycharm": {
     "name": "#%%\n"
    }
   }
  },
  {
   "cell_type": "code",
   "execution_count": 5,
   "outputs": [
    {
     "name": "stdout",
     "output_type": "stream",
     "text": [
      "Optimal media mix:\n",
      "TV Programs: 4\n",
      "Radio Programs: 0\n"
     ]
    }
   ],
   "source": [
    "import pulp\n",
    "\n",
    "# Create a LP problem\n",
    "prob = pulp.LpProblem(\"AdvertisingProblem\", pulp.LpMaximize)\n",
    "\n",
    "# Define decision variables\n",
    "tv_programs = pulp.LpVariable('TV_programs', lowBound=3, upBound=None, cat='Integer')\n",
    "radio_programs = pulp.LpVariable('Radio_programs', lowBound=0, upBound=5, cat='Integer')\n",
    "\n",
    "# Define objective function (total reach)\n",
    "prob += 450000 * tv_programs + 20000 * radio_programs, \"Total Reach\"\n",
    "\n",
    "# Define constraints\n",
    "prob += 50000 * tv_programs + 20000 * radio_programs <= 200000  # Budget constraint\n",
    "prob += tv_programs >= 3  # At least 3 TV programs\n",
    "prob += tv_programs + radio_programs <= 5  # Maximum 5 programs total\n",
    "\n",
    "# Solve the LP problem\n",
    "prob.solve()\n",
    "\n",
    "# Print the results\n",
    "print(\"Optimal media mix:\")\n",
    "print(\"TV Programs:\", int(pulp.value(tv_programs)))\n",
    "print(\"Radio Programs:\", int(pulp.value(radio_programs)))\n"
   ],
   "metadata": {
    "collapsed": false,
    "pycharm": {
     "name": "#%%\n"
    }
   }
  },
  {
   "cell_type": "code",
   "execution_count": null,
   "outputs": [],
   "source": [],
   "metadata": {
    "collapsed": false,
    "pycharm": {
     "name": "#%%\n"
    }
   }
  },
  {
   "cell_type": "code",
   "execution_count": 6,
   "outputs": [
    {
     "name": "stdout",
     "output_type": "stream",
     "text": [
      "Optimal daily production:\n",
      "Belt A: 1\n",
      "Belt B: 5\n",
      "Belt C: 0\n"
     ]
    }
   ],
   "source": [
    "import pulp\n",
    "\n",
    "# Create a LP problem\n",
    "prob = pulp.LpProblem(\"BeltProduction\", pulp.LpMaximize)\n",
    "\n",
    "# Define decision variables\n",
    "A = pulp.LpVariable('BeltA', lowBound=0, cat='Integer')\n",
    "B = pulp.LpVariable('BeltB', lowBound=0, cat='Integer')\n",
    "C = pulp.LpVariable('BeltC', lowBound=0, cat='Integer')\n",
    "\n",
    "# Define objective function (profit)\n",
    "prob += 3 * A + 5 * B + 4 * C, \"Total Profit\"\n",
    "\n",
    "# Define constraints\n",
    "prob += 2 * A + 3 * C <= 8  # Machine M1 constraint\n",
    "prob += 2 * B + 5 * C <= 10  # Machine M2 constraint\n",
    "prob += 3 * A + 2 * B + 4 * C <= 15  # Machine M3 constraint\n",
    "\n",
    "# Solve the LP problem\n",
    "prob.solve()\n",
    "\n",
    "# Print the results\n",
    "print(\"Optimal daily production:\")\n",
    "print(\"Belt A:\", int(pulp.value(A)))\n",
    "print(\"Belt B:\", int(pulp.value(B)))\n",
    "print(\"Belt C:\", int(pulp.value(C)))"
   ],
   "metadata": {
    "collapsed": false,
    "pycharm": {
     "name": "#%%\n"
    }
   }
  },
  {
   "cell_type": "code",
   "execution_count": 7,
   "outputs": [
    {
     "ename": "NameError",
     "evalue": "name 'pd' is not defined",
     "output_type": "error",
     "traceback": [
      "\u001B[1;31m---------------------------------------------------------------------------\u001B[0m",
      "\u001B[1;31mNameError\u001B[0m                                 Traceback (most recent call last)",
      "Cell \u001B[1;32mIn[7], line 3\u001B[0m\n\u001B[0;32m      1\u001B[0m o \u001B[38;5;241m=\u001B[39m [{\u001B[38;5;124m'\u001B[39m\u001B[38;5;124mname\u001B[39m\u001B[38;5;124m'\u001B[39m:name,\u001B[38;5;124m'\u001B[39m\u001B[38;5;124mshadow price\u001B[39m\u001B[38;5;124m'\u001B[39m:c\u001B[38;5;241m.\u001B[39mpi,\u001B[38;5;124m'\u001B[39m\u001B[38;5;124mslack\u001B[39m\u001B[38;5;124m'\u001B[39m: c\u001B[38;5;241m.\u001B[39mslack} \u001B[38;5;28;01mfor\u001B[39;00m name, c \u001B[38;5;129;01min\u001B[39;00m model\u001B[38;5;241m.\u001B[39mconstraints\u001B[38;5;241m.\u001B[39mitems()]\n\u001B[1;32m----> 3\u001B[0m \u001B[38;5;28mprint\u001B[39m(\u001B[43mpd\u001B[49m\u001B[38;5;241m.\u001B[39mDataFrame(o))\n",
      "\u001B[1;31mNameError\u001B[0m: name 'pd' is not defined"
     ]
    }
   ],
   "source": [
    "o = [{'name':name,'shadow price':c.pi,'slack': c.slack} for name, c in model.constraints.items()]\n",
    "\n",
    "print(pd.DataFrame(o))"
   ],
   "metadata": {
    "collapsed": false,
    "pycharm": {
     "name": "#%%\n"
    }
   }
  },
  {
   "cell_type": "code",
   "execution_count": 14,
   "outputs": [],
   "source": [
    "import pandas as pd"
   ],
   "metadata": {
    "collapsed": false,
    "pycharm": {
     "name": "#%%\n"
    }
   }
  },
  {
   "cell_type": "code",
   "execution_count": 8,
   "outputs": [],
   "source": [
    "from pulp import *\n",
    "\n",
    "# Initialize Class, Define Vars., and Objective\n",
    "model = LpProblem(\"Glass_Manufacturing_Industries_Profits\",LpMaximize)"
   ],
   "metadata": {
    "collapsed": false,
    "pycharm": {
     "name": "#%%\n"
    }
   }
  },
  {
   "cell_type": "code",
   "execution_count": 9,
   "outputs": [],
   "source": [
    "# Define variables\n",
    "A = LpVariable('A', lowBound=0)\n",
    "B = LpVariable('B', lowBound=0)"
   ],
   "metadata": {
    "collapsed": false,
    "pycharm": {
     "name": "#%%\n"
    }
   }
  },
  {
   "cell_type": "code",
   "execution_count": 10,
   "outputs": [],
   "source": [
    "# Define Objetive Function: Profit on Product A and B\n",
    "model += 60 * A + 50 * B"
   ],
   "metadata": {
    "collapsed": false,
    "pycharm": {
     "name": "#%%\n"
    }
   }
  },
  {
   "cell_type": "code",
   "execution_count": 11,
   "outputs": [],
   "source": [
    "# Constraint 1\n",
    "model += 4 * A + 10 * B <= 100\n",
    "\n",
    "# Constraint 2\n",
    "model += 2 * A + 1 * B <= 22\n",
    "\n",
    "# Constraint 3\n",
    "model += 3 * A + 3 * B <= 39"
   ],
   "metadata": {
    "collapsed": false,
    "pycharm": {
     "name": "#%%\n"
    }
   }
  },
  {
   "cell_type": "code",
   "execution_count": 12,
   "outputs": [
    {
     "name": "stdout",
     "output_type": "stream",
     "text": [
      "Model Status:Optimal\n",
      "Objective =  740.0\n",
      "A = 9.0\n",
      "B = 4.0\n"
     ]
    }
   ],
   "source": [
    "# Solve Model\n",
    "model.solve()\n",
    "\n",
    "print(\"Model Status:{}\".format(LpStatus[model.status]))\n",
    "print(\"Objective = \", value(model.objective))\n",
    "\n",
    "for v in model.variables():\n",
    "    print(v.name,\"=\", v.varValue)"
   ],
   "metadata": {
    "collapsed": false,
    "pycharm": {
     "name": "#%%\n"
    }
   }
  },
  {
   "cell_type": "code",
   "execution_count": 15,
   "outputs": [
    {
     "name": "stdout",
     "output_type": "stream",
     "text": [
      "  name  shadow price  slack\n",
      "0  _C1     -0.000000   24.0\n",
      "1  _C2     10.000000   -0.0\n",
      "2  _C3     13.333333   -0.0\n"
     ]
    }
   ],
   "source": [
    "o = [{'name':name,'shadow price':c.pi,'slack': c.slack} for name, c in model.constraints.items()]\n",
    "\n",
    "print(pd.DataFrame(o))"
   ],
   "metadata": {
    "collapsed": false,
    "pycharm": {
     "name": "#%%\n"
    }
   }
  },
  {
   "cell_type": "code",
   "execution_count": 16,
   "outputs": [
    {
     "name": "stdout",
     "output_type": "stream",
     "text": [
      "Model Status:Optimal\n",
      "Objective =  740.0\n",
      "A = 9.0\n",
      "B = 4.0\n",
      "  Name     Constraint  shadow price  slack\n",
      "0  _C1  {A: 4, B: 10}           2.5   -0.0\n",
      "1  _C2   {A: 2, B: 1}          25.0   -0.0\n",
      "2  _C3   {A: 3, B: 3}          -0.0   -0.0\n"
     ]
    }
   ],
   "source": [
    "# Initialize Class, Define Vars., and Objective\n",
    "model = LpProblem(\"Glass_Manufacturing_Industries_Profits\",LpMaximize)\n",
    "\n",
    "# Define variables\n",
    "A = LpVariable('A', lowBound=0)\n",
    "B = LpVariable('B', lowBound=0)\n",
    "\n",
    "# Define Objetive Function: Profit on Product A and B\n",
    "model += 60 * A + 50 * B\n",
    "\n",
    "# Constraint 1\n",
    "model += 4 * A + 10 * B <= 76 # update its value\n",
    "\n",
    "# Constraint 2\n",
    "model += 2 * A + 1 * B <= 22\n",
    "\n",
    "# Constraint 3\n",
    "model += 3 * A + 3 * B <= 39\n",
    "\n",
    "# Solve Model\n",
    "model.solve()\n",
    "\n",
    "print(\"Model Status:{}\".format(LpStatus[model.status]))\n",
    "print(\"Objective = \", value(model.objective))\n",
    "\n",
    "for v in model.variables():\n",
    "    print(v.name,\"=\", v.varValue)\n",
    "\n",
    "o = [{'Name':name,'Constraint':c,'shadow price':c.pi,'slack': c.slack} for name, c in model.constraints.items()]\n",
    "\n",
    "print(pd.DataFrame(o))"
   ],
   "metadata": {
    "collapsed": false,
    "pycharm": {
     "name": "#%%\n"
    }
   }
  },
  {
   "cell_type": "code",
   "execution_count": 17,
   "outputs": [
    {
     "name": "stdout",
     "output_type": "stream",
     "text": [
      "Model Status:Optimal\n",
      "Objective =  750.0\n",
      "A = 10.0\n",
      "B = 3.0\n",
      "  Name     Constraint  shadow price  slack\n",
      "0  _C1  {A: 4, B: 10}     -0.000000   30.0\n",
      "1  _C2   {A: 2, B: 1}     10.000000   -0.0\n",
      "2  _C3   {A: 3, B: 3}     13.333333   -0.0\n"
     ]
    }
   ],
   "source": [
    "# Initialize Class, Define Vars., and Objective\n",
    "model = LpProblem(\"Glass_Manufacturing_Industries_Profits\",LpMaximize)\n",
    "\n",
    "# Define variables\n",
    "A = LpVariable('A', lowBound=0)\n",
    "B = LpVariable('B', lowBound=0)\n",
    "\n",
    "# Define Objetive Function: Profit on Product A and B\n",
    "model += 60 * A + 50 * B\n",
    "\n",
    "# Constraint 1\n",
    "model += 4 * A + 10 * B <= 100\n",
    "\n",
    "# Constraint 2\n",
    "model += 2 * A + 1 * B <= 23 # increase by 1\n",
    "\n",
    "# Constraint 3\n",
    "model += 3 * A + 3 * B <= 39\n",
    "\n",
    "# Solve Model\n",
    "model.solve()\n",
    "\n",
    "print(\"Model Status:{}\".format(LpStatus[model.status]))\n",
    "print(\"Objective = \", value(model.objective))\n",
    "\n",
    "for v in model.variables():\n",
    "    print(v.name,\"=\", v.varValue)\n",
    "\n",
    "o = [{'Name':name,'Constraint':c,'shadow price':c.pi,'slack': c.slack} for name, c in model.constraints.items()]\n",
    "\n",
    "print(pd.DataFrame(o))"
   ],
   "metadata": {
    "collapsed": false,
    "pycharm": {
     "name": "#%%\n"
    }
   }
  },
  {
   "cell_type": "code",
   "execution_count": 19,
   "outputs": [
    {
     "ename": "ValueError",
     "evalue": "invalid literal for int() with base 10: 'Tv'",
     "output_type": "error",
     "traceback": [
      "\u001B[1;31m---------------------------------------------------------------------------\u001B[0m",
      "\u001B[1;31mValueError\u001B[0m                                Traceback (most recent call last)",
      "Cell \u001B[1;32mIn[19], line 16\u001B[0m\n\u001B[0;32m     14\u001B[0m \u001B[38;5;66;03m# Define decision variables\u001B[39;00m\n\u001B[0;32m     15\u001B[0m x \u001B[38;5;241m=\u001B[39m np\u001B[38;5;241m.\u001B[39marray([\u001B[38;5;241m1\u001B[39m, \u001B[38;5;241m1\u001B[39m])  \u001B[38;5;66;03m# Initial guess (can be any values)\u001B[39;00m\n\u001B[1;32m---> 16\u001B[0m x[\u001B[38;5;241m0\u001B[39m] \u001B[38;5;241m=\u001B[39m \u001B[38;5;124m\"\u001B[39m\u001B[38;5;124mTv\u001B[39m\u001B[38;5;124m\"\u001B[39m  \u001B[38;5;66;03m# Name for first variable (number of TV programs)\u001B[39;00m\n\u001B[0;32m     17\u001B[0m x[\u001B[38;5;241m1\u001B[39m] \u001B[38;5;241m=\u001B[39m \u001B[38;5;124m\"\u001B[39m\u001B[38;5;124mRadio\u001B[39m\u001B[38;5;124m\"\u001B[39m  \u001B[38;5;66;03m# Name for second variable (number of radio programs)\u001B[39;00m\n\u001B[0;32m     19\u001B[0m \u001B[38;5;66;03m# Define objective function (maximize total reach)\u001B[39;00m\n",
      "\u001B[1;31mValueError\u001B[0m: invalid literal for int() with base 10: 'Tv'"
     ]
    }
   ],
   "source": [
    "from scipy.optimize import linprog\n",
    "import numpy as np\n",
    "# Define data\n",
    "TvCost = 50000  # Cost of TV program (in Rs.)\n",
    "RadioCost = 20000  # Cost of radio program (in Rs.)\n",
    "Budget = 200000  # Total advertising budget (in Rs.)\n",
    "MinTV = 3  # Minimum TV programs\n",
    "MaxRadio = 5  # Maximum radio programs\n",
    "ReachTVA = 450000  # Reach of TV program for audience A\n",
    "ReachTVB = 50000  # Reach of TV program for audience B\n",
    "ReachRadioA = 20000  # Reach of radio program for audience A\n",
    "ReachRadioB = 80000  # Reach of radio program for audience B\n",
    "\n",
    "# Define decision variables\n",
    "x = np.array([1, 1])  # Initial guess (can be any values)\n",
    "x[0] = \"Tv\"  # Name for first variable (number of TV programs)\n",
    "x[1] = \"Radio\"  # Name for second variable (number of radio programs)\n",
    "\n",
    "# Define objective function (maximize total reach)\n",
    "c = np.array([ReachTVA + ReachTVB, ReachRadioA + ReachRadioB])\n",
    "\n",
    "# Define constraints\n",
    "A_ub = np.array([[TvCost, RadioCost]])  # Coefficients for upper bound constraint\n",
    "b_ub = np.array([Budget])  # Upper bound for budget constraint\n",
    "\n",
    "A_eq = np.array([[1, 0], [0, 1]])  # Coefficients for equality constraints\n",
    "b_eq = np.array([MinTV, MaxRadio])  # Values for equality constraints (min TV, max radio)\n",
    "\n",
    "# Define bounds (non-negative values)\n",
    "bounds = (0, None) * 2\n",
    "\n",
    "# Solve the linear program\n",
    "res = linprog(c, A_ub=A_ub, b_ub=b_eq, A_eq=A_eq, bounds=bounds)\n",
    "\n",
    "# Print results\n",
    "if res.success:\n",
    "    print(\"Optimal number of TV programs:\", int(res.x[0]))\n",
    "    print(\"Optimal number of radio programs:\", int(res.x[1]))\n",
    "    print(\"Total reach:\", int(res.fun))\n",
    "else:\n",
    "    print(\"Optimization failed:\", res.message)\n",
    "\n"
   ],
   "metadata": {
    "collapsed": false,
    "pycharm": {
     "name": "#%%\n"
    }
   }
  },
  {
   "cell_type": "code",
   "execution_count": 22,
   "outputs": [
    {
     "ename": "TypeError",
     "evalue": "'NoneType' object is not subscriptable",
     "output_type": "error",
     "traceback": [
      "\u001B[1;31m---------------------------------------------------------------------------\u001B[0m",
      "\u001B[1;31mTypeError\u001B[0m                                 Traceback (most recent call last)",
      "Cell \u001B[1;32mIn[22], line 23\u001B[0m\n\u001B[0;32m     19\u001B[0m result \u001B[38;5;241m=\u001B[39m linprog(c, A_ub\u001B[38;5;241m=\u001B[39mA, b_ub\u001B[38;5;241m=\u001B[39mb, bounds\u001B[38;5;241m=\u001B[39mbounds, method\u001B[38;5;241m=\u001B[39m\u001B[38;5;124m'\u001B[39m\u001B[38;5;124mhighs\u001B[39m\u001B[38;5;124m'\u001B[39m)\n\u001B[0;32m     21\u001B[0m \u001B[38;5;66;03m# # Print the results\u001B[39;00m\n\u001B[0;32m     22\u001B[0m \u001B[38;5;66;03m# print(\"Optimal media mix:\")\u001B[39;00m\n\u001B[1;32m---> 23\u001B[0m \u001B[38;5;28mprint\u001B[39m(\u001B[38;5;124m\"\u001B[39m\u001B[38;5;124mTV Programs:\u001B[39m\u001B[38;5;124m\"\u001B[39m, \u001B[38;5;28mround\u001B[39m(\u001B[43mresult\u001B[49m\u001B[38;5;241;43m.\u001B[39;49m\u001B[43mx\u001B[49m\u001B[43m[\u001B[49m\u001B[38;5;241;43m0\u001B[39;49m\u001B[43m]\u001B[49m, \u001B[38;5;241m2\u001B[39m))\n\u001B[0;32m     24\u001B[0m \u001B[38;5;28mprint\u001B[39m(\u001B[38;5;124m\"\u001B[39m\u001B[38;5;124mRadio Programs:\u001B[39m\u001B[38;5;124m\"\u001B[39m, \u001B[38;5;28mround\u001B[39m(result\u001B[38;5;241m.\u001B[39mx[\u001B[38;5;241m1\u001B[39m], \u001B[38;5;241m2\u001B[39m))\n",
      "\u001B[1;31mTypeError\u001B[0m: 'NoneType' object is not subscriptable"
     ]
    }
   ],
   "source": [
    "from scipy.optimize import linprog\n",
    "\n",
    "# Objective coefficients (negative as linprog minimizes the objective)\n",
    "c = [-450000, -20000]  # Reach for TV and radio respectively\n",
    "\n",
    "# Coefficients of the inequality constraints (budget and program constraints)\n",
    "A = [[50000, 20000],  # Cost of TV and radio respectively\n",
    "     [-1, 0],         # At least 3 TV programs\n",
    "     [0, -1],         # Maximum 5 radio programs\n",
    "    ]\n",
    "\n",
    "# Right-hand side of the inequality constraints (total budget and program constraints)\n",
    "b = [200000, -3, -5]\n",
    "\n",
    "# Bounds for the variables (number of TV and radio programs)\n",
    "bounds = [(3, None), (0, 5)]\n",
    "\n",
    "# Solve the linear programming problem\n",
    "result = linprog(c, A_ub=A, b_ub=b, bounds=bounds, method='highs')\n",
    "\n",
    "# # Print the results\n",
    "# print(\"Optimal media mix:\")\n",
    "print(\"TV Programs:\", round(result.x[0], 2))\n",
    "print(\"Radio Programs:\", round(result.x[1], 2))\n",
    "\n"
   ],
   "metadata": {
    "collapsed": false,
    "pycharm": {
     "name": "#%%\n"
    }
   }
  },
  {
   "cell_type": "code",
   "execution_count": null,
   "outputs": [],
   "source": [],
   "metadata": {
    "collapsed": false,
    "pycharm": {
     "name": "#%%\n"
    }
   }
  }
 ],
 "metadata": {
  "kernelspec": {
   "display_name": "Python 3",
   "language": "python",
   "name": "python3"
  },
  "language_info": {
   "codemirror_mode": {
    "name": "ipython",
    "version": 2
   },
   "file_extension": ".py",
   "mimetype": "text/x-python",
   "name": "python",
   "nbconvert_exporter": "python",
   "pygments_lexer": "ipython2",
   "version": "2.7.6"
  }
 },
 "nbformat": 4,
 "nbformat_minor": 0
}