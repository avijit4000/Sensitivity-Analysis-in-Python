{
 "cells": [
  {
   "cell_type": "markdown",
   "source": [
    "## Name - Avijit Biswas    Roll No - 2023dss1008"
   ],
   "metadata": {
    "collapsed": false,
    "pycharm": {
     "name": "#%% md\n"
    }
   }
  },
  {
   "cell_type": "markdown",
   "source": [
    "This is the Question link [Click Hear](https://docs.google.com/document/d/1iTIxAUqp99urvgj4BzYfO-X9fiXve6QtBhcuINDTTvI/edit?pli=1)"
   ],
   "metadata": {
    "collapsed": false,
    "pycharm": {
     "name": "#%% md\n"
    }
   }
  },
  {
   "cell_type": "markdown",
   "source": [
    "Question 1.\n",
    "A manufacturer of leather belts makes three types of belts A, B and C which are processed on three machines M1, M2 and M3. Belt A requires 2 hours on machine M1 and 3 hours on machine M3. Belt B requires 3 hours on machine M1, 2 hours on machine M2 and 2 hours on machine M3. Belt C requires 5 hours on machine M2 and 4 hours on machine M3. There are 8 hours of time per day available on machine M1, 10 hours of time per day available on machine M2 and 15 hours of time per day available on machine M3. The profit gained is Rs. 3/unit, Rs. 5/unit and Rs. 4/unit for A, B and C respectively. Find the daily production of each type for optimal profit."
   ],
   "metadata": {
    "collapsed": false,
    "pycharm": {
     "name": "#%% md\n"
    }
   }
  },
  {
   "cell_type": "code",
   "execution_count": 8,
   "outputs": [],
   "source": [
    "import pulp"
   ],
   "metadata": {
    "collapsed": false,
    "pycharm": {
     "name": "#%%\n"
    }
   }
  },
  {
   "cell_type": "code",
   "execution_count": 9,
   "outputs": [],
   "source": [
    "# Create a LP problem\n",
    "prob = pulp.LpProblem(\"BeltProduction\", pulp.LpMaximize)"
   ],
   "metadata": {
    "collapsed": false,
    "pycharm": {
     "name": "#%%\n"
    }
   }
  },
  {
   "cell_type": "code",
   "execution_count": 10,
   "outputs": [],
   "source": [
    "# Define decision variables\n",
    "A = pulp.LpVariable('BeltA', lowBound=0, cat='Integer')\n",
    "B = pulp.LpVariable('BeltB', lowBound=0, cat='Integer')\n",
    "C = pulp.LpVariable('BeltC', lowBound=0, cat='Integer')"
   ],
   "metadata": {
    "collapsed": false,
    "pycharm": {
     "name": "#%%\n"
    }
   }
  },
  {
   "cell_type": "code",
   "execution_count": 11,
   "outputs": [],
   "source": [
    "# Define objective function (profit)\n",
    "prob += 3 * A + 5 * B + 4 * C, \"Total Profit\""
   ],
   "metadata": {
    "collapsed": false,
    "pycharm": {
     "name": "#%%\n"
    }
   }
  },
  {
   "cell_type": "code",
   "execution_count": 12,
   "outputs": [],
   "source": [
    "# Define constraints\n",
    "prob += 2 * A + 3 * C <= 8  # Machine M1 constraint\n",
    "prob += 2 * B + 5 * C <= 10  # Machine M2 constraint\n",
    "prob += 3 * A + 2 * B + 4 * C <= 15  # Machine M3 constraint"
   ],
   "metadata": {
    "collapsed": false,
    "pycharm": {
     "name": "#%%\n"
    }
   }
  },
  {
   "cell_type": "code",
   "execution_count": 13,
   "outputs": [
    {
     "data": {
      "text/plain": "1"
     },
     "execution_count": 13,
     "metadata": {},
     "output_type": "execute_result"
    }
   ],
   "source": [
    "# Solve the LP problem\n",
    "prob.solve()"
   ],
   "metadata": {
    "collapsed": false,
    "pycharm": {
     "name": "#%%\n"
    }
   }
  },
  {
   "cell_type": "code",
   "execution_count": 14,
   "outputs": [
    {
     "name": "stdout",
     "output_type": "stream",
     "text": [
      "Optimal daily production:\n",
      "Belt A: 1\n",
      "Belt B: 5\n",
      "Belt C: 0\n"
     ]
    }
   ],
   "source": [
    "# Print the results\n",
    "print(\"Optimal daily production:\")\n",
    "print(\"Belt A:\", int(pulp.value(A)))\n",
    "print(\"Belt B:\", int(pulp.value(B)))\n",
    "print(\"Belt C:\", int(pulp.value(C)))"
   ],
   "metadata": {
    "collapsed": false,
    "pycharm": {
     "name": "#%%\n"
    }
   }
  },
  {
   "cell_type": "code",
   "execution_count": null,
   "outputs": [],
   "source": [],
   "metadata": {
    "collapsed": false,
    "pycharm": {
     "name": "#%%\n"
    }
   }
  },
  {
   "cell_type": "markdown",
   "source": [
    "Question 2.\n",
    "A diet for a sick person must contain atleast 4,000 units of vitamins, 50 units of minerals and 1,400 of calories. Two foods, A and B are available at a cost of Rs. 4 and Rs. 3 per unit respectively. If one unit of A contains 200 units of vitamins, 1 unit of mineral and 40 calories, and one unit of food contains 100 units of vitamins, 2 units of minerals and 40 calories, what combination of foods should be used to have least cost?\n"
   ],
   "metadata": {
    "collapsed": false,
    "pycharm": {
     "name": "#%% md\n"
    }
   }
  },
  {
   "cell_type": "code",
   "execution_count": 15,
   "outputs": [],
   "source": [
    "prob = pulp.LpProblem(\"DietProblem\", pulp.LpMinimize)"
   ],
   "metadata": {
    "collapsed": false,
    "pycharm": {
     "name": "#%%\n"
    }
   }
  },
  {
   "cell_type": "code",
   "execution_count": 16,
   "outputs": [],
   "source": [
    "# Define decision variables\n",
    "units_A = pulp.LpVariable('Units_A', lowBound=0, cat='Integer')\n",
    "units_B = pulp.LpVariable('Units_B', lowBound=0, cat='Integer')"
   ],
   "metadata": {
    "collapsed": false,
    "pycharm": {
     "name": "#%%\n"
    }
   }
  },
  {
   "cell_type": "code",
   "execution_count": 17,
   "outputs": [],
   "source": [
    "# Define objective function (cost)\n",
    "prob += 4 * units_A + 3 * units_B, \"Total Cost\""
   ],
   "metadata": {
    "collapsed": false,
    "pycharm": {
     "name": "#%%\n"
    }
   }
  },
  {
   "cell_type": "code",
   "execution_count": 18,
   "outputs": [],
   "source": [
    "# Define constraints\n",
    "prob += 200 * units_A + 100 * units_B >= 4000  # Vitamins constraint\n",
    "prob += units_A + 2 * units_B >= 50  # Minerals constraint\n",
    "prob += 40 * units_A + 40 * units_B >= 1400  # Calories constraint"
   ],
   "metadata": {
    "collapsed": false,
    "pycharm": {
     "name": "#%%\n"
    }
   }
  },
  {
   "cell_type": "code",
   "execution_count": 19,
   "outputs": [
    {
     "data": {
      "text/plain": "1"
     },
     "execution_count": 19,
     "metadata": {},
     "output_type": "execute_result"
    }
   ],
   "source": [
    "# Solve the LP problem\n",
    "prob.solve()"
   ],
   "metadata": {
    "collapsed": false,
    "pycharm": {
     "name": "#%%\n"
    }
   }
  },
  {
   "cell_type": "code",
   "execution_count": 20,
   "outputs": [
    {
     "name": "stdout",
     "output_type": "stream",
     "text": [
      "Optimal combination of foods:\n",
      "Units of Food A: 5\n",
      "Units of Food B: 30\n"
     ]
    }
   ],
   "source": [
    "# Print the results\n",
    "print(\"Optimal combination of foods:\")\n",
    "print(\"Units of Food A:\", int(pulp.value(units_A)))\n",
    "print(\"Units of Food B:\", int(pulp.value(units_B)))"
   ],
   "metadata": {
    "collapsed": false,
    "pycharm": {
     "name": "#%%\n"
    }
   }
  },
  {
   "cell_type": "code",
   "execution_count": null,
   "outputs": [],
   "source": [],
   "metadata": {
    "collapsed": false,
    "pycharm": {
     "name": "#%%\n"
    }
   }
  },
  {
   "cell_type": "markdown",
   "source": [
    "Question 3.\n",
    "An advertising agency wishes to reach 2 types of audiences: Customers with annual income greater than Rs 60,000, say A, and customers with annual income less than Rs. 60, 000, say B. The total advertising budget is Rs 2,00,000. One programme of TV advertising costs Rs 50,000, one programme of radio advertising costs Rs 20,000. For contract reasons, atleast 3 programmes ought to be of TV, and the number of radio programmes must be limited to 5. Surveys indicate that a single TV programme reaches 4,50,000 customers in category A and 50,000 customers in category B. One radio programme reaches 20,000 customers in category A and 80,000 customers of category B. Determine the media mix to maximize the total reach.\n"
   ],
   "metadata": {
    "collapsed": false,
    "pycharm": {
     "name": "#%% md\n"
    }
   }
  },
  {
   "cell_type": "code",
   "execution_count": 21,
   "outputs": [],
   "source": [
    "# Create a LP problem\n",
    "prob = pulp.LpProblem(\"AdvertisingProblem\", pulp.LpMaximize)"
   ],
   "metadata": {
    "collapsed": false,
    "pycharm": {
     "name": "#%%\n"
    }
   }
  },
  {
   "cell_type": "code",
   "execution_count": 22,
   "outputs": [],
   "source": [
    "# Define decision variables\n",
    "tv_programs = pulp.LpVariable('TV_programs', lowBound=3, upBound=None, cat='Integer')\n",
    "radio_programs = pulp.LpVariable('Radio_programs', lowBound=0, upBound=5, cat='Integer')"
   ],
   "metadata": {
    "collapsed": false,
    "pycharm": {
     "name": "#%%\n"
    }
   }
  },
  {
   "cell_type": "code",
   "execution_count": 23,
   "outputs": [],
   "source": [
    "# Define objective function (total)\n",
    "prob += 450000 * tv_programs + 20000 * radio_programs, \"Total Reach\""
   ],
   "metadata": {
    "collapsed": false,
    "pycharm": {
     "name": "#%%\n"
    }
   }
  },
  {
   "cell_type": "code",
   "execution_count": 24,
   "outputs": [],
   "source": [
    "# Define constraints\n",
    "prob += 50000 * tv_programs + 20000 * radio_programs <= 200000  # Budget constraint\n",
    "prob += tv_programs >= 3  # At least 3 TV programs\n",
    "prob += tv_programs + radio_programs <= 5  # Maximum 5 programs total"
   ],
   "metadata": {
    "collapsed": false,
    "pycharm": {
     "name": "#%%\n"
    }
   }
  },
  {
   "cell_type": "code",
   "execution_count": 29,
   "outputs": [
    {
     "data": {
      "text/plain": "1"
     },
     "execution_count": 29,
     "metadata": {},
     "output_type": "execute_result"
    }
   ],
   "source": [
    "prob.solve()"
   ],
   "metadata": {
    "collapsed": false,
    "pycharm": {
     "name": "#%%\n"
    }
   }
  },
  {
   "cell_type": "code",
   "execution_count": 30,
   "outputs": [
    {
     "name": "stdout",
     "output_type": "stream",
     "text": [
      "Optimal TV Programs : 4\n",
      "Optimal Radio Programs: 0\n"
     ]
    }
   ],
   "source": [
    "print(\"Optimal TV Programs :\", int(pulp.value(tv_programs)))\n",
    "print(\"Optimal Radio Programs:\", int(pulp.value(radio_programs)))"
   ],
   "metadata": {
    "collapsed": false,
    "pycharm": {
     "name": "#%%\n"
    }
   }
  },
  {
   "cell_type": "code",
   "execution_count": null,
   "outputs": [],
   "source": [],
   "metadata": {
    "collapsed": false,
    "pycharm": {
     "name": "#%%\n"
    }
   }
  },
  {
   "cell_type": "code",
   "execution_count": null,
   "outputs": [],
   "source": [],
   "metadata": {
    "collapsed": false,
    "pycharm": {
     "name": "#%%\n"
    }
   }
  },
  {
   "cell_type": "code",
   "execution_count": null,
   "outputs": [],
   "source": [],
   "metadata": {
    "collapsed": false,
    "pycharm": {
     "name": "#%%\n"
    }
   }
  },
  {
   "cell_type": "code",
   "execution_count": null,
   "outputs": [],
   "source": [],
   "metadata": {
    "collapsed": false,
    "pycharm": {
     "name": "#%%\n"
    }
   }
  }
 ],
 "metadata": {
  "kernelspec": {
   "display_name": "Python 3",
   "language": "python",
   "name": "python3"
  },
  "language_info": {
   "codemirror_mode": {
    "name": "ipython",
    "version": 2
   },
   "file_extension": ".py",
   "mimetype": "text/x-python",
   "name": "python",
   "nbconvert_exporter": "python",
   "pygments_lexer": "ipython2",
   "version": "2.7.6"
  }
 },
 "nbformat": 4,
 "nbformat_minor": 0
}