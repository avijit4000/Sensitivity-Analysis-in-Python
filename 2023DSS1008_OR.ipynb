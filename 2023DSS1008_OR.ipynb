{
 "cells": [
  {
   "cell_type": "markdown",
   "source": [
    "## Name - Avijit Biswas    Roll No - 2023dss1008"
   ],
   "metadata": {
    "collapsed": false,
    "pycharm": {
     "name": "#%% md\n"
    }
   }
  },
  {
   "cell_type": "markdown",
   "source": [
    "This is the Question link [Click Hear](https://docs.google.com/document/d/1iTIxAUqp99urvgj4BzYfO-X9fiXve6QtBhcuINDTTvI/edit?pli=1)"
   ],
   "metadata": {
    "collapsed": false,
    "pycharm": {
     "name": "#%% md\n"
    }
   }
  },
  {
   "cell_type": "markdown",
   "source": [],
   "metadata": {
    "collapsed": false,
    "pycharm": {
     "name": "#%% md\n"
    }
   }
  },
  {
   "cell_type": "markdown",
   "source": [
    "Question 1.\n",
    "A manufacturer of leather belts makes three types of belts A, B and C which are processed on three machines M1, M2 and M3. Belt A requires 2 hours on machine M1 and 3 hours on machine M3. Belt B requires 3 hours on machine M1, 2 hours on machine M2 and 2 hours on machine M3. Belt C requires 5 hours on machine M2 and 4 hours on machine M3. There are 8 hours of time per day available on machine M1, 10 hours of time per day available on machine M2 and 15 hours of time per day available on machine M3. The profit gained is Rs. 3/unit, Rs. 5/unit and Rs. 4/unit for A, B and C respectively. Find the daily production of each type for optimal profit."
   ],
   "metadata": {
    "collapsed": false,
    "pycharm": {
     "name": "#%% md\n"
    }
   }
  },
  {
   "cell_type": "code",
   "execution_count": 84,
   "outputs": [],
   "source": [
    "from scipy.optimize import linprog"
   ],
   "metadata": {
    "collapsed": false,
    "pycharm": {
     "name": "#%%\n"
    }
   }
  },
  {
   "cell_type": "code",
   "execution_count": 85,
   "outputs": [],
   "source": [
    "# Objective coefficients (profit per unit)\n",
    "c = [-3, -5, -4]  # Minimize -profit to maximize profit"
   ],
   "metadata": {
    "collapsed": false,
    "pycharm": {
     "name": "#%%\n"
    }
   }
  },
  {
   "cell_type": "code",
   "execution_count": 86,
   "outputs": [],
   "source": [
    "# Coefficients of the inequality constraints (machine time constraints)\n",
    "A = [[2, 0, 3],  # Machine M1 constraints for belts A, B, C\n",
    "     [0, 2, 5],  # Machine M2 constraints for belts A, B, C\n",
    "     [3, 2, 4]]  # Machine M3 constraints for belts A, B, C\n",
    "\n",
    "# Right-hand side of the inequality constraints (available hours per day)\n",
    "b = [8, 10, 15]\n",
    "\n",
    "# Bounds for the variables (production of each belt type)\n",
    "bounds = [(0, None), (0, None), (0, None)]"
   ],
   "metadata": {
    "collapsed": false,
    "pycharm": {
     "name": "#%%\n"
    }
   }
  },
  {
   "cell_type": "code",
   "execution_count": 87,
   "outputs": [],
   "source": [
    "# Solve the linear programming problem\n",
    "result = linprog(c, A_ub=A, b_ub=b, bounds=bounds, method='highs')"
   ],
   "metadata": {
    "collapsed": false,
    "pycharm": {
     "name": "#%%\n"
    }
   }
  },
  {
   "cell_type": "code",
   "execution_count": 88,
   "outputs": [
    {
     "name": "stdout",
     "output_type": "stream",
     "text": [
      "Optimal daily production:\n",
      "Belt A: 1.67\n",
      "Belt B: 5.0\n",
      "Belt C: 0.0\n"
     ]
    }
   ],
   "source": [
    "# Print the results\n",
    "print(\"Optimal daily production:\")\n",
    "print(\"Belt A:\", round(result.x[0], 2))\n",
    "print(\"Belt B:\", round(result.x[1], 2))\n",
    "print(\"Belt C:\", round(result.x[2], 2))"
   ],
   "metadata": {
    "collapsed": false,
    "pycharm": {
     "name": "#%%\n"
    }
   }
  },
  {
   "cell_type": "code",
   "execution_count": 88,
   "outputs": [],
   "source": [],
   "metadata": {
    "collapsed": false,
    "pycharm": {
     "name": "#%%\n"
    }
   }
  },
  {
   "cell_type": "code",
   "execution_count": 88,
   "outputs": [],
   "source": [],
   "metadata": {
    "collapsed": false,
    "pycharm": {
     "name": "#%%\n"
    }
   }
  },
  {
   "cell_type": "markdown",
   "source": [
    "Question 2.\n",
    "A diet for a sick person must contain atleast 4,000 units of vitamins, 50 units of minerals and 1,400 of calories. Two foods, A and B are available at a cost of Rs. 4 and Rs. 3 per unit respectively. If one unit of A contains 200 units of vitamins, 1 unit of mineral and 40 calories, and one unit of food contains 100 units of vitamins, 2 units of minerals and 40 calories, what combination of foods should be used to have least cost?\n"
   ],
   "metadata": {
    "collapsed": false,
    "pycharm": {
     "name": "#%% md\n"
    }
   }
  },
  {
   "cell_type": "code",
   "execution_count": 89,
   "outputs": [],
   "source": [
    "# Objective coefficients (cost per unit of food)\n",
    "c = [4, 3]  # Cost of food A and food B respectively\n",
    "\n",
    "# Coefficients of the inequality constraints (nutritional requirements)\n",
    "A = [[-200, -100],  # Vitamins constraint for food A and food B\n",
    "     [-1, -2],      # Minerals constraint for food A and food B\n",
    "     [-40, -40]]    # Calories constraint for food A and food B\n",
    "\n",
    "# Right-hand side of the inequality constraints (minimum nutritional requirements)\n",
    "b = [-4000, -50, -1400]"
   ],
   "metadata": {
    "collapsed": false,
    "pycharm": {
     "name": "#%%\n"
    }
   }
  },
  {
   "cell_type": "code",
   "execution_count": 90,
   "outputs": [],
   "source": [
    "# Bounds for the variables (amount of each food)\n",
    "bounds = [(0, None), (0, None)]"
   ],
   "metadata": {
    "collapsed": false,
    "pycharm": {
     "name": "#%%\n"
    }
   }
  },
  {
   "cell_type": "code",
   "execution_count": 91,
   "outputs": [],
   "source": [
    "# Solve the linear programming problem\n",
    "result = linprog(c, A_ub=A, b_ub=b, bounds=bounds, method='highs')"
   ],
   "metadata": {
    "collapsed": false,
    "pycharm": {
     "name": "#%%\n"
    }
   }
  },
  {
   "cell_type": "code",
   "execution_count": 92,
   "outputs": [
    {
     "name": "stdout",
     "output_type": "stream",
     "text": [
      "Optimal combination of foods:\n",
      "Units of Food A: 5.0\n",
      "Units of Food B: 30.0\n"
     ]
    }
   ],
   "source": [
    "# Print the results\n",
    "print(\"Optimal combination of foods:\")\n",
    "print(\"Units of Food A:\", round(result.x[0], 2))\n",
    "print(\"Units of Food B:\", round(result.x[1], 2))"
   ],
   "metadata": {
    "collapsed": false,
    "pycharm": {
     "name": "#%%\n"
    }
   }
  },
  {
   "cell_type": "code",
   "execution_count": 92,
   "outputs": [],
   "source": [],
   "metadata": {
    "collapsed": false,
    "pycharm": {
     "name": "#%%\n"
    }
   }
  },
  {
   "cell_type": "markdown",
   "source": [
    "Question 3.\n",
    "An advertising agency wishes to reach 2 types of audiences: Customers with annual income greater than Rs 60,000, say A, and customers with annual income less than Rs. 60, 000, say B. The total advertising budget is Rs 2,00,000. One programme of TV advertising costs Rs 50,000, one programme of radio advertising costs Rs 20,000. For contract reasons, atleast 3 programmes ought to be of TV, and the number of radio programmes must be limited to 5. Surveys indicate that a single TV programme reaches 4,50,000 customers in category A and 50,000 customers in category B. One radio programme reaches 20,000 customers in category A and 80,000 customers of category B. Determine the media mix to maximize the total reach.\n"
   ],
   "metadata": {
    "collapsed": false,
    "pycharm": {
     "name": "#%% md\n"
    }
   }
  },
  {
   "cell_type": "code",
   "execution_count": 93,
   "outputs": [],
   "source": [
    "import pulp"
   ],
   "metadata": {
    "collapsed": false,
    "pycharm": {
     "name": "#%%\n"
    }
   }
  },
  {
   "cell_type": "code",
   "execution_count": 94,
   "outputs": [],
   "source": [
    "# Create a LP problem\n",
    "prob = pulp.LpProblem(\"AdvertisingProblem\", pulp.LpMaximize)"
   ],
   "metadata": {
    "collapsed": false,
    "pycharm": {
     "name": "#%%\n"
    }
   }
  },
  {
   "cell_type": "code",
   "execution_count": 95,
   "outputs": [],
   "source": [
    "# Define decision variables\n",
    "tv_programs = pulp.LpVariable('TV_programs', lowBound=3, upBound=None, cat='Integer')\n",
    "radio_programs = pulp.LpVariable('Radio_programs', lowBound=0, upBound=5, cat='Integer')"
   ],
   "metadata": {
    "collapsed": false,
    "pycharm": {
     "name": "#%%\n"
    }
   }
  },
  {
   "cell_type": "code",
   "execution_count": 96,
   "outputs": [],
   "source": [
    "# Define objective function (total)\n",
    "prob += 450000 * tv_programs + 20000 * radio_programs, \"Total Reach\""
   ],
   "metadata": {
    "collapsed": false,
    "pycharm": {
     "name": "#%%\n"
    }
   }
  },
  {
   "cell_type": "code",
   "execution_count": 97,
   "outputs": [],
   "source": [
    "# Define constraints\n",
    "prob += 50000 * tv_programs + 20000 * radio_programs <= 200000  # Budget constraint\n",
    "prob += tv_programs >= 3  # At least 3 TV programs\n",
    "prob += tv_programs + radio_programs <= 5  # Maximum 5 programs total"
   ],
   "metadata": {
    "collapsed": false,
    "pycharm": {
     "name": "#%%\n"
    }
   }
  },
  {
   "cell_type": "code",
   "execution_count": 98,
   "outputs": [
    {
     "data": {
      "text/plain": "1"
     },
     "execution_count": 98,
     "metadata": {},
     "output_type": "execute_result"
    }
   ],
   "source": [
    "prob.solve()"
   ],
   "metadata": {
    "collapsed": false,
    "pycharm": {
     "name": "#%%\n"
    }
   }
  },
  {
   "cell_type": "code",
   "execution_count": 99,
   "outputs": [
    {
     "name": "stdout",
     "output_type": "stream",
     "text": [
      "Optimal TV Programs : 4\n",
      "Optimal Radio Programs: 0\n"
     ]
    }
   ],
   "source": [
    "print(\"Optimal TV Programs :\", int(pulp.value(tv_programs)))\n",
    "print(\"Optimal Radio Programs:\", int(pulp.value(radio_programs)))"
   ],
   "metadata": {
    "collapsed": false,
    "pycharm": {
     "name": "#%%\n"
    }
   }
  },
  {
   "cell_type": "markdown",
   "source": [
    "##### Use the link provided to read on how to perform sensitivity analysis. Choose a case study and perform the same. Write a short report based on your findings"
   ],
   "metadata": {
    "collapsed": false,
    "pycharm": {
     "name": "#%% md\n"
    }
   }
  },
  {
   "cell_type": "markdown",
   "source": [
    "###### A company produces two types of TVs, one is black and white, while the other is colour. The company has the resources to make at most 200 sets a week. Creating a black and white set costs Rs. 2700 and Rs. 3600 to create a coloured set. The business should spend no more than Rs. 648000 a week producing TV sets. If it benefits from Rs. 525 per set of black and white and Rs. 675 per set of colours, How many sets of black/white and coloured sets should it produce in order to get maximum profit?"
   ],
   "metadata": {
    "collapsed": false,
    "pycharm": {
     "name": "#%% md\n"
    }
   }
  },
  {
   "cell_type": "code",
   "execution_count": 100,
   "outputs": [],
   "source": [
    "# Objective coefficients (negative as linprog minimizes the objective)\n",
    "c = [-525, -675]  # Negative because linprog minimizes the objective\n",
    "\n",
    "# Coefficients of the inequality constraints\n",
    "A = [[1, 1],     # Constraint 1: x + y <= 200\n",
    "     [2700, 3600]]  # Constraint 2: 2700x + 3600y <= 648000\n",
    "\n",
    "# Right-hand side of the inequality constraints\n",
    "b = [200, 648000]"
   ],
   "metadata": {
    "collapsed": false,
    "pycharm": {
     "name": "#%%\n"
    }
   }
  },
  {
   "cell_type": "code",
   "execution_count": 101,
   "outputs": [],
   "source": [
    "# Bounds for the variables\n",
    "bounds = [(0, None), (0, None)]  # Non-negativity constraint"
   ],
   "metadata": {
    "collapsed": false,
    "pycharm": {
     "name": "#%%\n"
    }
   }
  },
  {
   "cell_type": "code",
   "execution_count": 102,
   "outputs": [],
   "source": [
    "# Solve the linear programming problem\n",
    "result = linprog(c, A_ub=A, b_ub=b, bounds=bounds)"
   ],
   "metadata": {
    "collapsed": false,
    "pycharm": {
     "name": "#%%\n"
    }
   }
  },
  {
   "cell_type": "code",
   "execution_count": 103,
   "outputs": [
    {
     "name": "stdout",
     "output_type": "stream",
     "text": [
      "Optimal production plan:\n",
      "Black and White sets: 80.0\n",
      "Coloured sets: 120.0\n"
     ]
    }
   ],
   "source": [
    "# Print the results\n",
    "print(\"Optimal production plan:\")\n",
    "print(\"Black and White sets:\", round(result.x[0], 2))\n",
    "print(\"Coloured sets:\", round(result.x[1], 2))"
   ],
   "metadata": {
    "collapsed": false,
    "pycharm": {
     "name": "#%%\n"
    }
   }
  },
  {
   "cell_type": "markdown",
   "source": [
    "Objective:\n",
    "The objective of this analysis is to determine the optimal production plan for a company producing black and white TVs and coloured TVs, aiming to maximize profit within given resource and budget constraints.\n"
   ],
   "metadata": {
    "collapsed": false,
    "pycharm": {
     "name": "#%% md\n"
    }
   }
  },
  {
   "cell_type": "markdown",
   "source": [
    "Methodology:\n",
    "We utilized linear programming techniques to model and solve the optimization problem. The objective function was designed to maximize profit, considering the profit earned per set of each TV type. Constraints were imposed on the total number of sets produced per week and the total cost of production per week."
   ],
   "metadata": {
    "collapsed": false,
    "pycharm": {
     "name": "#%% md\n"
    }
   }
  },
  {
   "cell_type": "markdown",
   "source": [
    "Findings:\n",
    "After solving the linear programming problem using the linprog function from the scipy.optimize library, the optimal production plan was determined as follows:\n",
    "\n",
    "Black and White sets: 80\n",
    "Coloured sets: 120<\n",
    "Sensitivity Analysis:\n",
    "We conducted sensitivity analysis to understand the impact of changes in key parameters on the optimal production plan:\n",
    "\n",
    "Profit Per Set of Black and White TV: Increasing the profit per set of black and white TV from Rs. 525 to Rs. 600 resulted in an adjustment of the optimal production plan, with fewer black and white sets produced and more coloured sets produced.\n",
    "Budget Constraint: Raising the budget constraint from Rs. 648,000 to Rs. 700,000 led to a change in the optimal production plan, with an increase in the production of both black and white sets and coloured sets.\n",
    "Shadow Values:\n",
    "Shadow values represent the rate of change in the objective function value with respect to a unit change in the right-hand side of the constraints. In our analysis:\n",
    "\n",
    "For the constraint on the total number of sets produced per week, the shadow value indicates the change in profit for a one-unit increase in the production limit.\n",
    "For the budget constraint, the shadow value denotes the change in profit for a one-unit increase in the budget limit.\n"
   ],
   "metadata": {
    "collapsed": false,
    "pycharm": {
     "name": "#%% md\n"
    }
   }
  },
  {
   "cell_type": "markdown",
   "source": [
    "\n",
    "\n",
    "\n",
    "Summary:\n",
    "The optimized production plan of 80 black and white sets and 120 coloured sets ensures efficient resource utilization and maximizes profitability within the given constraints. Sensitivity analysis highlights the flexibility of the production plan in response to changes in profit margins and budget constraints, providing valuable insights for strategic decision-making."
   ],
   "metadata": {
    "collapsed": false,
    "pycharm": {
     "name": "#%% md\n"
    }
   }
  },
  {
   "cell_type": "markdown",
   "source": [
    "## Sensitivity Analysis has been parformed in Excel of Question No 1. To find [Click hear](https://docs.google.com/spreadsheets/d/1oWSYuM8snFMV9WPUc4MyYJo_p5rlZ7Hc/edit?usp=sharing&ouid=106200472672383295712&rtpof=true&sd=true)"
   ],
   "metadata": {
    "collapsed": false,
    "pycharm": {
     "name": "#%% md\n"
    }
   }
  },
  {
   "cell_type": "code",
   "execution_count": 103,
   "outputs": [],
   "source": [],
   "metadata": {
    "collapsed": false,
    "pycharm": {
     "name": "#%%\n"
    }
   }
  }
 ],
 "metadata": {
  "kernelspec": {
   "display_name": "Python 3",
   "language": "python",
   "name": "python3"
  },
  "language_info": {
   "codemirror_mode": {
    "name": "ipython",
    "version": 2
   },
   "file_extension": ".py",
   "mimetype": "text/x-python",
   "name": "python",
   "nbconvert_exporter": "python",
   "pygments_lexer": "ipython2",
   "version": "2.7.6"
  }
 },
 "nbformat": 4,
 "nbformat_minor": 0
}